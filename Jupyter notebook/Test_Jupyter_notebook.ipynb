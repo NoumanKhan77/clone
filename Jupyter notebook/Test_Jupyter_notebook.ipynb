{
 "cells": [
  {
   "cell_type": "markdown",
   "id": "455fc7bb",
   "metadata": {},
   "source": [
    "# Python ka chilla with baba_Aammar\n",
    "## How to use jupyter notebook\n",
    "### Basics of python\n",
    "### **01- My first program**"
   ]
  },
  {
   "cell_type": "code",
   "execution_count": 1,
   "id": "959756f4",
   "metadata": {},
   "outputs": [
    {
     "name": "stdout",
     "output_type": "stream",
     "text": [
      "5\n",
      "Hello World\n",
      "we are learning with Aammar\n"
     ]
    }
   ],
   "source": [
    "# My_first_program_in_python\n",
    "print(2+3)\n",
    "print(\"Hello World\")\n",
    "print(\"we are learning with Aammar\")"
   ]
  },
  {
   "cell_type": "markdown",
   "id": "433dca4c",
   "metadata": {},
   "source": [
    "### **02- operators**"
   ]
  },
  {
   "cell_type": "code",
   "execution_count": 2,
   "id": "e38473ea",
   "metadata": {},
   "outputs": [
    {
     "name": "stdout",
     "output_type": "stream",
     "text": [
      "3\n",
      "2\n",
      "3.0\n",
      "6\n",
      "1\n",
      "3\n",
      "8\n",
      "6.5\n"
     ]
    }
   ],
   "source": [
    "print(2+1)\n",
    "print(3-1)\n",
    "print(6/2)\n",
    "print(2*3)\n",
    "print(13%2)\n",
    "print(6//2)\n",
    "print(2**3)\n",
    "\n",
    "print(3**2/2*3/3+6-4)"
   ]
  },
  {
   "cell_type": "markdown",
   "id": "0e93aefb",
   "metadata": {},
   "source": [
    "*PEMDAS\n",
    "Parenthesis Exponents Multiply Divide Addition Subtraction\n",
    "left to right sequence for M D & A S*"
   ]
  },
  {
   "cell_type": "markdown",
   "id": "4c93247e",
   "metadata": {},
   "source": [
    "### **03- strings**"
   ]
  },
  {
   "cell_type": "code",
   "execution_count": 3,
   "id": "9a5d66e0",
   "metadata": {
    "scrolled": true
   },
   "outputs": [
    {
     "name": "stdout",
     "output_type": "stream",
     "text": [
      "Hello World\n",
      "we are learning with Aammar\n",
      "Test for single quotes\n",
      "test for double quotes\n",
      "test for tripple quotes\n",
      "Wat's up?\n"
     ]
    }
   ],
   "source": [
    "print(\"Hello World\")\n",
    "print(\"we are learning with Aammar\")\n",
    "print('Test for single quotes')\n",
    "print(\"test for double quotes\")\n",
    "print('''test for tripple quotes''')\n",
    "print(\"Wat's up?\")"
   ]
  },
  {
   "cell_type": "markdown",
   "id": "55a6be85",
   "metadata": {},
   "source": [
    "### **04- comments in python**\n",
    "The shortcut key to comments is **Ctrl+/**"
   ]
  },
  {
   "cell_type": "code",
   "execution_count": 4,
   "id": "5be9e4d4",
   "metadata": {
    "scrolled": true
   },
   "outputs": [
    {
     "name": "stdout",
     "output_type": "stream",
     "text": [
      "How are you\n",
      "We are learning python with Aammar\n",
      "5\n"
     ]
    }
   ],
   "source": [
    "print(\"How are you\")       #press these to comment out (Ctrl+/)\n",
    "print(\"We are learning python with Aammar\") #print a string\n",
    "\n",
    "print(2+3) #print operator function with numbers"
   ]
  },
  {
   "cell_type": "markdown",
   "id": "3b57e464",
   "metadata": {},
   "source": [
    "### **05- variables**"
   ]
  },
  {
   "cell_type": "code",
   "execution_count": 5,
   "id": "05393325",
   "metadata": {
    "scrolled": true
   },
   "outputs": [
    {
     "name": "stdout",
     "output_type": "stream",
     "text": [
      "5\n",
      "We are learning python with Aammar\n",
      "15\n",
      "<class 'int'>\n",
      "<class 'str'>\n",
      "<class 'str'>\n",
      "Mangoes\n"
     ]
    }
   ],
   "source": [
    "# Variables: objects containing specific values\n",
    "x = 5     #numeric or intiger variable\n",
    "print(x)\n",
    "\n",
    "y=\"We are learning python with Aammar\" #string variable \n",
    "print(y)\n",
    "\n",
    "x=x+10 #or x=15\n",
    "print(x)\n",
    "\n",
    "# #Types/Class of variable\n",
    "type(x)\n",
    "print(type(x))\n",
    "\n",
    "print(type(y))\n",
    "#print_type_class\n",
    "\n",
    "#Rules to assign a variable:\n",
    "# 1- The variable should contain letters,numbers or underscores\n",
    "# 2- Do not start with numbers\n",
    "# 3- Spaces are not allowed\n",
    "# 4- Do not use keywords used in functions (break,mean,median,test etc.)\n",
    "# 5- Short and descriptive\n",
    "# 6- Case senstivity (lower case, upper case letters. lower case letters should be used)\n",
    "\n",
    "fruit_basket=8\n",
    "fruit_basket=\"Mangoes\"\n",
    "# del fruit_basket\n",
    "print(type(fruit_basket))\n",
    "print(fruit_basket)"
   ]
  },
  {
   "cell_type": "markdown",
   "id": "25f99eb8",
   "metadata": {},
   "source": [
    "### **06- Input variables**"
   ]
  },
  {
   "cell_type": "code",
   "execution_count": 6,
   "id": "1b802af6",
   "metadata": {
    "scrolled": true
   },
   "outputs": [
    {
     "name": "stdout",
     "output_type": "stream",
     "text": [
      "Mangoes\n",
      "Which is your favourite fruit? Mangoes\n",
      "Mangoes\n",
      "What is your name? Nouman Khan\n",
      "Hello Nouman Khan\n",
      "What is your name? Nouman Khan\n",
      "Hello! Nouman Khan\n",
      "What is your name? Nouman Khan\n",
      "How old are you? 16\n",
      "Hello Nouman Khan , you are still young\n"
     ]
    }
   ],
   "source": [
    "fruit_basket= \"Mangoes\"\n",
    "print(fruit_basket)\n",
    "\n",
    "#Input function simple\n",
    "fruit_basket=input(\"Which is your favourite fruit? \")\n",
    "print(fruit_basket)\n",
    "\n",
    "#Input function 2nd stage\n",
    "name=input(\"What is your name? \")\n",
    "Greetings=\"Hello\"\n",
    "print(Greetings, name)\n",
    "\n",
    "# Another way of stage 2 input function\n",
    "name=input(\"What is your name? \")\n",
    "print(\"Hello!\", name)\n",
    "\n",
    "#3rd stage Input function\n",
    "name=input(\"What is your name? \")\n",
    "age=input(\"How old are you? \")\n",
    "Greetings=\"Hello\"\n",
    "print(Greetings,name, \", you are still young\")\n"
   ]
  },
  {
   "cell_type": "markdown",
   "id": "87e08ef9",
   "metadata": {},
   "source": [
    "### **07- conditional logics**"
   ]
  },
  {
   "cell_type": "code",
   "execution_count": 7,
   "id": "7242f7f2",
   "metadata": {
    "scrolled": true
   },
   "outputs": [
    {
     "name": "stdout",
     "output_type": "stream",
     "text": [
      "True\n",
      "False\n",
      "True\n",
      "True\n",
      "True\n",
      "True\n",
      "False\n",
      "how old is Awais? 1\n",
      "<class 'int'>\n",
      "False\n"
     ]
    }
   ],
   "source": [
    "# logical operators are either \"true or false\" or \"yes or no\" or \"0 or 1\"\n",
    "# equal to                       ==\n",
    "# not equal to                   !=\n",
    "# less than                      <\n",
    "# greater than                   >\n",
    "# less than and equal to         <=\n",
    "# greater than and equal to      >=\n",
    "\n",
    "# Is 4 equal to 4?\n",
    "print(4==4)\n",
    "print(4!=4)\n",
    "print(4>3)\n",
    "print(3<6)\n",
    "print(3<=5)\n",
    "print(5>=4)\n",
    "\n",
    "# application of logical operators\n",
    "\n",
    "Awais_age=4\n",
    "age_at_school=5\n",
    "print(Awais_age==age_at_school)\n",
    "\n",
    "# Input function and logical operator\n",
    "age_at_school=5\n",
    "Awais_age=input(\"how old is Awais? \")  #Input function\n",
    "Awais_age=int(Awais_age)\n",
    "print(type(Awais_age))\n",
    "print(Awais_age==age_at_school)        #logical operator"
   ]
  },
  {
   "cell_type": "markdown",
   "id": "c902c178",
   "metadata": {},
   "source": [
    "### **08- Type conversion**"
   ]
  },
  {
   "cell_type": "code",
   "execution_count": 8,
   "id": "809374ba",
   "metadata": {
    "scrolled": true
   },
   "outputs": [
    {
     "name": "stdout",
     "output_type": "stream",
     "text": [
      "20.2 type of x is: <class 'float'>\n",
      "What is your age ? 16\n",
      "16 <class 'int'>\n",
      "What is your name? Nouman Khan\n",
      "Nouman Khan <class 'str'>\n"
     ]
    }
   ],
   "source": [
    "x = 10         #integer\n",
    "y = 10.2       #float\n",
    "z = \"Hello\"    #string\n",
    "\n",
    "# # Implicit type conversion\n",
    "x = x+y\n",
    "print(x,\"type of x is:\", type(x))\n",
    "\n",
    "# explicit type conversion\n",
    "age=input(\"What is your age ? \")\n",
    "# age=int(age)\n",
    "print(age, type(int(age)))\n",
    "\n",
    "# name\n",
    "name=input(\"What is your name? \")\n",
    "print(name,type(str(name)))"
   ]
  },
  {
   "cell_type": "markdown",
   "id": "af7dec5e",
   "metadata": {},
   "source": [
    "### **09- If, else & elif**"
   ]
  },
  {
   "cell_type": "code",
   "execution_count": 9,
   "id": "3656579b",
   "metadata": {},
   "outputs": [
    {
     "name": "stdout",
     "output_type": "stream",
     "text": [
      "you should take care of Awais, he is still a baby!\n"
     ]
    }
   ],
   "source": [
    "Awais_age=1\n",
    "required_age_at_school=5\n",
    "# Question: Can Awais go to school\n",
    "if Awais_age==required_age_at_school:\n",
    "    print(\"Congratulations!Awais can join the school.\")\n",
    "elif Awais_age>required_age_at_school:\n",
    "    print(\"Awais should join higher classes\")\n",
    "elif Awais_age<=2:\n",
    "    print(\"you should take care of Awais, he is still a baby!\")\n",
    "else:\n",
    "    print(\"Awais can not join the school\")"
   ]
  },
  {
   "cell_type": "markdown",
   "id": "86393add",
   "metadata": {},
   "source": [
    "### **10- functions**"
   ]
  },
  {
   "cell_type": "code",
   "execution_count": 10,
   "id": "7bbf465f",
   "metadata": {
    "scrolled": true
   },
   "outputs": [
    {
     "name": "stdout",
     "output_type": "stream",
     "text": [
      "We are learning python with Aammar\n",
      "We are learning python with Aammar\n",
      "We are learning python with Aammar\n",
      "We are learning python with Aammar in 40 days \n",
      "We are learning python with Aammar in 40 days \n",
      "We are learning python with Aammar in 40 days \n",
      "We are learning with Aaammar im codanics youtube channel\n",
      "We are learning with Aaammar im codanics youtube channel\n",
      "We are learning with Aaammar im codanics youtube channel\n",
      "Awais is still a baby\n"
     ]
    }
   ],
   "source": [
    "# # defining a function\n",
    "# # 1\n",
    "def print_codanics():\n",
    "    print(\"We are learning python with Aammar\")\n",
    "    print(\"We are learning python with Aammar\")\n",
    "    print(\"We are learning python with Aammar\")\n",
    "print_codanics()\n",
    "# 2\n",
    "def print_codanics():\n",
    "    text=\"We are learning python with Aammar in 40 days \"\n",
    "    print(text)\n",
    "    print(text)\n",
    "    print(text)\n",
    "print_codanics()\n",
    "\n",
    "# # 3\n",
    "def print_codanics(text):\n",
    "    print(text)\n",
    "    print(text)\n",
    "    print(text)\n",
    "print_codanics(\"We are learning with Aaammar im codanics youtube channel\")\n",
    "\n",
    "# 4\n",
    "# defining a functuon with if, elif and else statements\n",
    "def school_calculator(age):\n",
    "    if age==5:\n",
    "        print(\"Awais can join the school\")\n",
    "    elif age>5:\n",
    "        print(\"Awais should go to higher school\")\n",
    "    else:\n",
    "        print(\"Awais is still a baby\")\n",
    "school_calculator(1)\n",
    "\n",
    "# 1\n",
    "# defining a function of future\n",
    "def future_age(age):\n",
    "    new_age=age+20\n",
    "    return new_age\n",
    "    print(new_age)\n",
    "future_predicted_age= future_age(18)\n",
    "# print(future_predicted_age)"
   ]
  },
  {
   "cell_type": "markdown",
   "id": "35ae13d7",
   "metadata": {},
   "source": [
    "### **11- loops**"
   ]
  },
  {
   "cell_type": "code",
   "execution_count": 11,
   "id": "a54bb58b",
   "metadata": {
    "scrolled": true
   },
   "outputs": [
    {
     "name": "stdout",
     "output_type": "stream",
     "text": [
      "0\n",
      "1\n",
      "2\n",
      "3\n",
      "4\n",
      "5\n",
      "5\n",
      "6\n",
      "7\n",
      "8\n",
      "9\n",
      "Mon\n",
      "Tue\n",
      "Wed\n",
      "Thu\n",
      "Sat\n",
      "Sun\n"
     ]
    }
   ],
   "source": [
    "#While and for loops\n",
    "\n",
    "#while loops\n",
    "\n",
    "x=0\n",
    "while (x<=5):\n",
    "    print(x)\n",
    "    x=x+1\n",
    "\n",
    "# for loops\n",
    "for x in range (5,10):\n",
    "    print(x)\n",
    "\n",
    "#array\n",
    "\n",
    "days=(\"Mon\", \"Tue\", \"Wed\", \"Thu\", \"Fri\", \"Sat\", \"Sun\")\n",
    "for d in days:\n",
    "#     if (d==\"Fri\"):break\n",
    "    if (d==\"Fri\"):continue\n",
    "    print(d)"
   ]
  },
  {
   "cell_type": "markdown",
   "id": "038c598e",
   "metadata": {},
   "source": [
    "### **12- important libraries**\n",
    "Important libraries are Numpy,Pandas"
   ]
  },
  {
   "cell_type": "code",
   "execution_count": 12,
   "id": "97c5d559",
   "metadata": {},
   "outputs": [
    {
     "name": "stdout",
     "output_type": "stream",
     "text": [
      "the value of pi is 3.141592653589793\n",
      "300\n"
     ]
    }
   ],
   "source": [
    "# If you want to print the value of pi\n",
    "import math\n",
    "print(\"the value of pi is\", math.pi)\n",
    "\n",
    "import statistics\n",
    "\n",
    "x=(150,250,350,450)\n",
    "print(statistics.mean(x))"
   ]
  },
  {
   "cell_type": "markdown",
   "id": "f299f9dd",
   "metadata": {},
   "source": [
    "### **13- trouble shooting**"
   ]
  },
  {
   "cell_type": "code",
   "execution_count": 13,
   "id": "08654b56",
   "metadata": {},
   "outputs": [
    {
     "ename": "SyntaxError",
     "evalue": "invalid syntax (549531452.py, line 1)",
     "output_type": "error",
     "traceback": [
      "\u001b[1;36m  File \u001b[1;32m\"C:\\Users\\ibrah\\AppData\\Local\\Temp\\ipykernel_6024\\549531452.py\"\u001b[1;36m, line \u001b[1;32m1\u001b[0m\n\u001b[1;33m    print(We are learning python with aammar) #syntax error\u001b[0m\n\u001b[1;37m             ^\u001b[0m\n\u001b[1;31mSyntaxError\u001b[0m\u001b[1;31m:\u001b[0m invalid syntax\n"
     ]
    }
   ],
   "source": [
    "print(We are learning python with aammar) #syntax error\n",
    "\n",
    "print(25/0)   #runtime error\n",
    "\n",
    "\n",
    "name= \"Nouman khan\"\n",
    "print(\"Hello\", name)"
   ]
  },
  {
   "cell_type": "markdown",
   "id": "eba2c88d",
   "metadata": {},
   "source": [
    "#### **We have completed this Jupyter notebook tutorial saved as Html**"
   ]
  }
 ],
 "metadata": {
  "kernelspec": {
   "display_name": "Python 3 (ipykernel)",
   "language": "python",
   "name": "python3"
  },
  "language_info": {
   "codemirror_mode": {
    "name": "ipython",
    "version": 3
   },
   "file_extension": ".py",
   "mimetype": "text/x-python",
   "name": "python",
   "nbconvert_exporter": "python",
   "pygments_lexer": "ipython3",
   "version": "3.9.13"
  }
 },
 "nbformat": 4,
 "nbformat_minor": 5
}
