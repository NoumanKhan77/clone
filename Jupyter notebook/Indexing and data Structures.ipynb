{
 "cells": [
  {
   "cell_type": "markdown",
   "id": "e1f0ad67",
   "metadata": {},
   "source": [
    "# - Indexing"
   ]
  },
  {
   "cell_type": "code",
   "execution_count": 1,
   "id": "3dfdcc87",
   "metadata": {},
   "outputs": [
    {
     "data": {
      "text/plain": [
       "'Samosa Pakora'"
      ]
     },
     "execution_count": 1,
     "metadata": {},
     "output_type": "execute_result"
    }
   ],
   "source": [
    "# make a string\n",
    "a = \"Samosa Pakora\"\n",
    "a"
   ]
  },
  {
   "cell_type": "code",
   "execution_count": 2,
   "id": "000728d2",
   "metadata": {},
   "outputs": [
    {
     "data": {
      "text/plain": [
       "13"
      ]
     },
     "execution_count": 2,
     "metadata": {},
     "output_type": "execute_result"
    }
   ],
   "source": [
    "# Length of indeces\n",
    "len(a)"
   ]
  },
  {
   "cell_type": "code",
   "execution_count": 3,
   "id": "5851f192",
   "metadata": {},
   "outputs": [
    {
     "data": {
      "text/plain": [
       "'Samosa Pakora'"
      ]
     },
     "execution_count": 3,
     "metadata": {},
     "output_type": "execute_result"
    }
   ],
   "source": [
    "a"
   ]
  },
  {
   "cell_type": "code",
   "execution_count": 4,
   "id": "98d88605",
   "metadata": {},
   "outputs": [
    {
     "data": {
      "text/plain": [
       "'S'"
      ]
     },
     "execution_count": 4,
     "metadata": {},
     "output_type": "execute_result"
    }
   ],
   "source": [
    "a[0]"
   ]
  },
  {
   "cell_type": "code",
   "execution_count": 5,
   "id": "84482fec",
   "metadata": {},
   "outputs": [
    {
     "data": {
      "text/plain": [
       "'a'"
      ]
     },
     "execution_count": 5,
     "metadata": {},
     "output_type": "execute_result"
    }
   ],
   "source": [
    "a[12]"
   ]
  },
  {
   "cell_type": "code",
   "execution_count": 6,
   "id": "dd7ca8d9",
   "metadata": {
    "scrolled": true
   },
   "outputs": [
    {
     "data": {
      "text/plain": [
       "'Samos'"
      ]
     },
     "execution_count": 6,
     "metadata": {},
     "output_type": "execute_result"
    }
   ],
   "source": [
    "a[0:5]"
   ]
  },
  {
   "cell_type": "code",
   "execution_count": 7,
   "id": "713db869",
   "metadata": {},
   "outputs": [
    {
     "data": {
      "text/plain": [
       "'Samosa Pakora'"
      ]
     },
     "execution_count": 7,
     "metadata": {},
     "output_type": "execute_result"
    }
   ],
   "source": [
    "# last index is exclusive\n",
    "a[0:13]"
   ]
  },
  {
   "cell_type": "code",
   "execution_count": 8,
   "id": "7fb63e35",
   "metadata": {},
   "outputs": [
    {
     "data": {
      "text/plain": [
       "'P'"
      ]
     },
     "execution_count": 8,
     "metadata": {},
     "output_type": "execute_result"
    }
   ],
   "source": [
    "a[-6]"
   ]
  },
  {
   "cell_type": "code",
   "execution_count": 9,
   "id": "43dd1e82",
   "metadata": {},
   "outputs": [
    {
     "data": {
      "text/plain": [
       "'Pakora'"
      ]
     },
     "execution_count": 9,
     "metadata": {},
     "output_type": "execute_result"
    }
   ],
   "source": [
    "a[-6:13]"
   ]
  },
  {
   "cell_type": "code",
   "execution_count": 10,
   "id": "aa9aba95",
   "metadata": {},
   "outputs": [
    {
     "data": {
      "text/plain": [
       "'biryani'"
      ]
     },
     "execution_count": 10,
     "metadata": {},
     "output_type": "execute_result"
    }
   ],
   "source": [
    "food=\"biryani\"\n",
    "food"
   ]
  },
  {
   "cell_type": "markdown",
   "id": "b291fa58",
   "metadata": {},
   "source": [
    "## String methods"
   ]
  },
  {
   "cell_type": "code",
   "execution_count": 11,
   "id": "2aa2f0af",
   "metadata": {},
   "outputs": [
    {
     "data": {
      "text/plain": [
       "'biryani'"
      ]
     },
     "execution_count": 11,
     "metadata": {},
     "output_type": "execute_result"
    }
   ],
   "source": [
    "food"
   ]
  },
  {
   "cell_type": "code",
   "execution_count": 12,
   "id": "ad859f66",
   "metadata": {},
   "outputs": [
    {
     "data": {
      "text/plain": [
       "7"
      ]
     },
     "execution_count": 12,
     "metadata": {},
     "output_type": "execute_result"
    }
   ],
   "source": [
    "len(food)"
   ]
  },
  {
   "cell_type": "code",
   "execution_count": 13,
   "id": "d2326189",
   "metadata": {},
   "outputs": [
    {
     "data": {
      "text/plain": [
       "'Biryani'"
      ]
     },
     "execution_count": 13,
     "metadata": {},
     "output_type": "execute_result"
    }
   ],
   "source": [
    "# Capitalize every element\n",
    "food.capitalize()"
   ]
  },
  {
   "cell_type": "code",
   "execution_count": 14,
   "id": "84d346c0",
   "metadata": {},
   "outputs": [
    {
     "data": {
      "text/plain": [
       "'BIRYANI'"
      ]
     },
     "execution_count": 14,
     "metadata": {},
     "output_type": "execute_result"
    }
   ],
   "source": [
    "# Uppercase letter\n",
    "food.upper()"
   ]
  },
  {
   "cell_type": "code",
   "execution_count": 15,
   "id": "a48a960a",
   "metadata": {},
   "outputs": [
    {
     "data": {
      "text/plain": [
       "'biryani'"
      ]
     },
     "execution_count": 15,
     "metadata": {},
     "output_type": "execute_result"
    }
   ],
   "source": [
    "# Lowercase letter\n",
    "food.lower()"
   ]
  },
  {
   "cell_type": "code",
   "execution_count": 16,
   "id": "b5577a0a",
   "metadata": {},
   "outputs": [
    {
     "data": {
      "text/plain": [
       "'shiryani'"
      ]
     },
     "execution_count": 16,
     "metadata": {},
     "output_type": "execute_result"
    }
   ],
   "source": [
    "# replace\n",
    "food.replace(\"b\", \"sh\")"
   ]
  },
  {
   "cell_type": "code",
   "execution_count": 17,
   "id": "560f77ee",
   "metadata": {},
   "outputs": [],
   "source": [
    "# counting a specific number in a string "
   ]
  },
  {
   "cell_type": "code",
   "execution_count": 18,
   "id": "1b73ef2a",
   "metadata": {},
   "outputs": [
    {
     "data": {
      "text/plain": [
       "'baba_aammar with D.r Ammar tufail'"
      ]
     },
     "execution_count": 18,
     "metadata": {},
     "output_type": "execute_result"
    }
   ],
   "source": [
    "name =\"baba_aammar with D.r Ammar tufail\" \n",
    "name"
   ]
  },
  {
   "cell_type": "code",
   "execution_count": 19,
   "id": "2f0663c3",
   "metadata": {},
   "outputs": [
    {
     "data": {
      "text/plain": [
       "1"
      ]
     },
     "execution_count": 19,
     "metadata": {},
     "output_type": "execute_result"
    }
   ],
   "source": [
    "name.count(\"D\")"
   ]
  },
  {
   "cell_type": "markdown",
   "id": "1f8d911a",
   "metadata": {},
   "source": [
    "### - Finding an index number in string "
   ]
  },
  {
   "cell_type": "code",
   "execution_count": 20,
   "id": "c66681f6",
   "metadata": {},
   "outputs": [
    {
     "data": {
      "text/plain": [
       "'baba_aammar with D.r Ammar Tufail'"
      ]
     },
     "execution_count": 20,
     "metadata": {},
     "output_type": "execute_result"
    }
   ],
   "source": [
    "name =\"baba_aammar with D.r Ammar Tufail\"\n",
    "name"
   ]
  },
  {
   "cell_type": "code",
   "execution_count": 21,
   "id": "1d963cd2",
   "metadata": {},
   "outputs": [
    {
     "data": {
      "text/plain": [
       "17"
      ]
     },
     "execution_count": 21,
     "metadata": {},
     "output_type": "execute_result"
    }
   ],
   "source": [
    "name.find(\"D\")"
   ]
  },
  {
   "cell_type": "code",
   "execution_count": 22,
   "id": "20c8f71b",
   "metadata": {},
   "outputs": [
    {
     "data": {
      "text/plain": [
       "'I love samosa, pakora, raita, biryani and karahi '"
      ]
     },
     "execution_count": 22,
     "metadata": {},
     "output_type": "execute_result"
    }
   ],
   "source": [
    "### - How to split a string\n",
    "food = \"I love samosa, pakora, raita, biryani and karahi \"\n",
    "food"
   ]
  },
  {
   "cell_type": "code",
   "execution_count": 23,
   "id": "38f6f1d1",
   "metadata": {},
   "outputs": [
    {
     "data": {
      "text/plain": [
       "['I love samosa', ' pakora', ' raita', ' biryani and karahi ']"
      ]
     },
     "execution_count": 23,
     "metadata": {},
     "output_type": "execute_result"
    }
   ],
   "source": [
    "food.split(\",\")"
   ]
  },
  {
   "cell_type": "markdown",
   "id": "1bbeee0a",
   "metadata": {},
   "source": [
    "# basic data structure in python\n",
    "## 1 - Tuple\n",
    "## 2 - List\n",
    "## 3 - Dictionaries\n",
    "## 4 - Set"
   ]
  },
  {
   "cell_type": "markdown",
   "id": "d34b4a75",
   "metadata": {},
   "source": [
    "## 1- Tuple\n",
    " - Order collection of elements\n",
    " - Enclosed in() round braces/parenthesis\n",
    " - Different kind of elements can be stored\n",
    " - Once elements are stored you can not change them/(Unmutatable)"
   ]
  },
  {
   "cell_type": "code",
   "execution_count": 24,
   "id": "1b24e071",
   "metadata": {},
   "outputs": [
    {
     "data": {
      "text/plain": [
       "(2, 'Python', True, 2.5)"
      ]
     },
     "execution_count": 24,
     "metadata": {},
     "output_type": "execute_result"
    }
   ],
   "source": [
    "tup1 = (2, \"Python\", True, 2.5)\n",
    "tup1"
   ]
  },
  {
   "cell_type": "code",
   "execution_count": 25,
   "id": "aa26d9ce",
   "metadata": {},
   "outputs": [
    {
     "data": {
      "text/plain": [
       "tuple"
      ]
     },
     "execution_count": 25,
     "metadata": {},
     "output_type": "execute_result"
    }
   ],
   "source": [
    "# Type of a tuple\n",
    "type(tup1)"
   ]
  },
  {
   "cell_type": "markdown",
   "id": "d8cc5317",
   "metadata": {},
   "source": [
    "### - Indexing in tuple"
   ]
  },
  {
   "cell_type": "code",
   "execution_count": 26,
   "id": "2807c22d",
   "metadata": {},
   "outputs": [
    {
     "data": {
      "text/plain": [
       "'Python'"
      ]
     },
     "execution_count": 26,
     "metadata": {},
     "output_type": "execute_result"
    }
   ],
   "source": [
    "tup1[1]"
   ]
  },
  {
   "cell_type": "code",
   "execution_count": 27,
   "id": "624ccb66",
   "metadata": {},
   "outputs": [
    {
     "data": {
      "text/plain": [
       "True"
      ]
     },
     "execution_count": 27,
     "metadata": {},
     "output_type": "execute_result"
    }
   ],
   "source": [
    "tup1[2]"
   ]
  },
  {
   "cell_type": "code",
   "execution_count": 28,
   "id": "da016b46",
   "metadata": {},
   "outputs": [
    {
     "data": {
      "text/plain": [
       "(2, 'Python', True)"
      ]
     },
     "execution_count": 28,
     "metadata": {},
     "output_type": "execute_result"
    }
   ],
   "source": [
    "# Last number is exclusive\n",
    "tup1[0:3]"
   ]
  },
  {
   "cell_type": "code",
   "execution_count": 29,
   "id": "bcceece7",
   "metadata": {},
   "outputs": [
    {
     "data": {
      "text/plain": [
       "4"
      ]
     },
     "execution_count": 29,
     "metadata": {},
     "output_type": "execute_result"
    }
   ],
   "source": [
    "# Counts of elements in tuple\n",
    "len(tup1)"
   ]
  },
  {
   "cell_type": "code",
   "execution_count": 30,
   "id": "01245647",
   "metadata": {},
   "outputs": [
    {
     "data": {
      "text/plain": [
       "(2, 'babaaammar', 3.5, False)"
      ]
     },
     "execution_count": 30,
     "metadata": {},
     "output_type": "execute_result"
    }
   ],
   "source": [
    "tup2 = (2, 'babaaammar', 3.5, False)\n",
    "tup2"
   ]
  },
  {
   "cell_type": "code",
   "execution_count": 31,
   "id": "73b8c16a",
   "metadata": {},
   "outputs": [
    {
     "data": {
      "text/plain": [
       "(2, 'Python', True, 2.5, 2, 'babaaammar', 3.5, False)"
      ]
     },
     "execution_count": 31,
     "metadata": {},
     "output_type": "execute_result"
    }
   ],
   "source": [
    "# Concatinate (add two or more than two tuples)\n",
    "tup1 + tup2"
   ]
  },
  {
   "cell_type": "code",
   "execution_count": 32,
   "id": "dd64848f",
   "metadata": {
    "scrolled": true
   },
   "outputs": [
    {
     "data": {
      "text/plain": [
       "(2, 'Python', True, 2.5, 2, 'Python', True, 2.5, 2, 'babaaammar', 3.5, False)"
      ]
     },
     "execution_count": 32,
     "metadata": {},
     "output_type": "execute_result"
    }
   ],
   "source": [
    "# Concatinate + repeat\n",
    "tup1*2 + tup2"
   ]
  },
  {
   "cell_type": "code",
   "execution_count": 33,
   "id": "8e7714bc",
   "metadata": {},
   "outputs": [
    {
     "data": {
      "text/plain": [
       "(20, 50, 30, 60, 79, 85)"
      ]
     },
     "execution_count": 33,
     "metadata": {},
     "output_type": "execute_result"
    }
   ],
   "source": [
    "tup3 = (20, 50,30, 60, 79, 85)\n",
    "tup3"
   ]
  },
  {
   "cell_type": "code",
   "execution_count": 34,
   "id": "12bb3330",
   "metadata": {},
   "outputs": [
    {
     "data": {
      "text/plain": [
       "20"
      ]
     },
     "execution_count": 34,
     "metadata": {},
     "output_type": "execute_result"
    }
   ],
   "source": [
    "# minimun value\n",
    "min(tup3)"
   ]
  },
  {
   "cell_type": "code",
   "execution_count": 35,
   "id": "5ec74ca7",
   "metadata": {},
   "outputs": [
    {
     "data": {
      "text/plain": [
       "85"
      ]
     },
     "execution_count": 35,
     "metadata": {},
     "output_type": "execute_result"
    }
   ],
   "source": [
    "# maximum value\n",
    "max(tup3)"
   ]
  },
  {
   "cell_type": "code",
   "execution_count": 36,
   "id": "1de8bfd5",
   "metadata": {
    "scrolled": false
   },
   "outputs": [
    {
     "data": {
      "text/plain": [
       "(20, 50, 30, 60, 79, 85, 20, 50, 30, 60, 79, 85)"
      ]
     },
     "execution_count": 36,
     "metadata": {},
     "output_type": "execute_result"
    }
   ],
   "source": [
    "tup3*2"
   ]
  },
  {
   "cell_type": "markdown",
   "id": "859571a0",
   "metadata": {},
   "source": [
    "### - Assignment (Practice work)"
   ]
  },
  {
   "cell_type": "code",
   "execution_count": 88,
   "id": "136aa26a",
   "metadata": {},
   "outputs": [
    {
     "data": {
      "text/plain": [
       "(10, 20, 30, 90, 20, 20.5, 10, 'assignment')"
      ]
     },
     "execution_count": 88,
     "metadata": {},
     "output_type": "execute_result"
    }
   ],
   "source": [
    "tup4=(10, 20, 30, 90, 20, 20.5, 10, \"assignment\")\n",
    "tup4"
   ]
  },
  {
   "cell_type": "code",
   "execution_count": 86,
   "id": "0b665533",
   "metadata": {},
   "outputs": [
    {
     "data": {
      "text/plain": [
       "2"
      ]
     },
     "execution_count": 86,
     "metadata": {},
     "output_type": "execute_result"
    }
   ],
   "source": [
    "# counting in tuple\n",
    "tup4.count(20)"
   ]
  },
  {
   "cell_type": "code",
   "execution_count": 97,
   "id": "6ca3449e",
   "metadata": {},
   "outputs": [
    {
     "data": {
      "text/plain": [
       "5"
      ]
     },
     "execution_count": 97,
     "metadata": {},
     "output_type": "execute_result"
    }
   ],
   "source": [
    "# Indexing in tuple\n",
    "tup4.index(20.5)"
   ]
  },
  {
   "cell_type": "markdown",
   "id": "8d4b864d",
   "metadata": {},
   "source": [
    "---"
   ]
  },
  {
   "cell_type": "markdown",
   "id": "094355a4",
   "metadata": {},
   "source": [
    "## 2 - List\n",
    "- Ordered collection of elements\n",
    "- Enclosed in [  ] square bracket/braces\n",
    "- Mutatable,(you can change the values)"
   ]
  },
  {
   "cell_type": "code",
   "execution_count": 37,
   "id": "1b1b9d9e",
   "metadata": {
    "scrolled": true
   },
   "outputs": [
    {
     "data": {
      "text/plain": [
       "[2, 'baba_aammar', False]"
      ]
     },
     "execution_count": 37,
     "metadata": {},
     "output_type": "execute_result"
    }
   ],
   "source": [
    "list1=[2, \"baba_aammar\", False]\n",
    "list1"
   ]
  },
  {
   "cell_type": "code",
   "execution_count": 38,
   "id": "d16dc215",
   "metadata": {},
   "outputs": [
    {
     "data": {
      "text/plain": [
       "list"
      ]
     },
     "execution_count": 38,
     "metadata": {},
     "output_type": "execute_result"
    }
   ],
   "source": [
    "type(list1)"
   ]
  },
  {
   "cell_type": "code",
   "execution_count": 39,
   "id": "1051359f",
   "metadata": {
    "scrolled": true
   },
   "outputs": [
    {
     "data": {
      "text/plain": [
       "3"
      ]
     },
     "execution_count": 39,
     "metadata": {},
     "output_type": "execute_result"
    }
   ],
   "source": [
    "len(list1)"
   ]
  },
  {
   "cell_type": "code",
   "execution_count": 40,
   "id": "9ee43241",
   "metadata": {},
   "outputs": [
    {
     "data": {
      "text/plain": [
       "False"
      ]
     },
     "execution_count": 40,
     "metadata": {},
     "output_type": "execute_result"
    }
   ],
   "source": [
    "list1[2]"
   ]
  },
  {
   "cell_type": "code",
   "execution_count": 41,
   "id": "0b614d01",
   "metadata": {
    "scrolled": true
   },
   "outputs": [
    {
     "data": {
      "text/plain": [
       "[3, 5, 'Aammar', 'Codanics', 478, 53.2, False]"
      ]
     },
     "execution_count": 41,
     "metadata": {},
     "output_type": "execute_result"
    }
   ],
   "source": [
    "list2=[3, 5, \"Aammar\", \"Codanics\", 478, 53.2, False ]\n",
    "list2"
   ]
  },
  {
   "cell_type": "code",
   "execution_count": 42,
   "id": "f4441aec",
   "metadata": {},
   "outputs": [
    {
     "data": {
      "text/plain": [
       "[2, 'baba_aammar', False, 3, 5, 'Aammar', 'Codanics', 478, 53.2, False]"
      ]
     },
     "execution_count": 42,
     "metadata": {},
     "output_type": "execute_result"
    }
   ],
   "source": [
    "list1 + list2"
   ]
  },
  {
   "cell_type": "code",
   "execution_count": 43,
   "id": "5f811529",
   "metadata": {},
   "outputs": [
    {
     "data": {
      "text/plain": [
       "[2, 'baba_aammar', False, 2, 'baba_aammar', False]"
      ]
     },
     "execution_count": 43,
     "metadata": {},
     "output_type": "execute_result"
    }
   ],
   "source": [
    "list1 * 2"
   ]
  },
  {
   "cell_type": "code",
   "execution_count": 44,
   "id": "8f14f386",
   "metadata": {},
   "outputs": [
    {
     "data": {
      "text/plain": [
       "[2, 'baba_aammar', False]"
      ]
     },
     "execution_count": 44,
     "metadata": {},
     "output_type": "execute_result"
    }
   ],
   "source": [
    "list1"
   ]
  },
  {
   "cell_type": "code",
   "execution_count": 45,
   "id": "29931b1b",
   "metadata": {},
   "outputs": [
    {
     "data": {
      "text/plain": [
       "[False, 'baba_aammar', 2]"
      ]
     },
     "execution_count": 45,
     "metadata": {},
     "output_type": "execute_result"
    }
   ],
   "source": [
    "list1.reverse()\n",
    "list1"
   ]
  },
  {
   "cell_type": "code",
   "execution_count": 46,
   "id": "f09cd052",
   "metadata": {
    "scrolled": true
   },
   "outputs": [
    {
     "data": {
      "text/plain": [
       "[False, 'baba_aammar', 2, 'Codanics youtube channel']"
      ]
     },
     "execution_count": 46,
     "metadata": {},
     "output_type": "execute_result"
    }
   ],
   "source": [
    "list1.append(\"Codanics youtube channel\")\n",
    "list1"
   ]
  },
  {
   "cell_type": "code",
   "execution_count": 47,
   "id": "feb4e92f",
   "metadata": {
    "scrolled": true
   },
   "outputs": [
    {
     "data": {
      "text/plain": [
       "[20, 30, 35, 50, 40, 12, 15, 11, 10, 355, 54, 886]"
      ]
     },
     "execution_count": 47,
     "metadata": {},
     "output_type": "execute_result"
    }
   ],
   "source": [
    "list3=[20, 30, 35, 50, 40, 12, 15, 11, 10, 355, 54, 886]\n",
    "list3"
   ]
  },
  {
   "cell_type": "code",
   "execution_count": 48,
   "id": "498ae44f",
   "metadata": {},
   "outputs": [
    {
     "data": {
      "text/plain": [
       "12"
      ]
     },
     "execution_count": 48,
     "metadata": {},
     "output_type": "execute_result"
    }
   ],
   "source": [
    "len(list3)"
   ]
  },
  {
   "cell_type": "code",
   "execution_count": 49,
   "id": "0b923f31",
   "metadata": {
    "scrolled": false
   },
   "outputs": [
    {
     "data": {
      "text/plain": [
       "[10, 11, 12, 15, 20, 30, 35, 40, 50, 54, 355, 886]"
      ]
     },
     "execution_count": 49,
     "metadata": {},
     "output_type": "execute_result"
    }
   ],
   "source": [
    "# sorting a list\n",
    "list3.sort()\n",
    "list3"
   ]
  },
  {
   "cell_type": "code",
   "execution_count": 50,
   "id": "20f198b9",
   "metadata": {
    "scrolled": true
   },
   "outputs": [
    {
     "data": {
      "text/plain": [
       "[10,\n",
       " 11,\n",
       " 12,\n",
       " 15,\n",
       " 20,\n",
       " 30,\n",
       " 35,\n",
       " 40,\n",
       " 50,\n",
       " 54,\n",
       " 355,\n",
       " 886,\n",
       " 10,\n",
       " 11,\n",
       " 12,\n",
       " 15,\n",
       " 20,\n",
       " 30,\n",
       " 35,\n",
       " 40,\n",
       " 50,\n",
       " 54,\n",
       " 355,\n",
       " 886]"
      ]
     },
     "execution_count": 50,
     "metadata": {},
     "output_type": "execute_result"
    }
   ],
   "source": [
    "list3*2"
   ]
  },
  {
   "cell_type": "code",
   "execution_count": 51,
   "id": "cd856ffe",
   "metadata": {
    "scrolled": false
   },
   "outputs": [
    {
     "data": {
      "text/plain": [
       "[False,\n",
       " 'baba_aammar',\n",
       " 2,\n",
       " 'Codanics youtube channel',\n",
       " 3,\n",
       " 5,\n",
       " 'Aammar',\n",
       " 'Codanics',\n",
       " 478,\n",
       " 53.2,\n",
       " False]"
      ]
     },
     "execution_count": 51,
     "metadata": {},
     "output_type": "execute_result"
    }
   ],
   "source": [
    "listes = list1 + list2\n",
    "listes"
   ]
  },
  {
   "cell_type": "markdown",
   "id": "cbe89cef",
   "metadata": {},
   "source": [
    "### - Assignment (Pratice work)"
   ]
  },
  {
   "cell_type": "code",
   "execution_count": 235,
   "id": "3ad814ea",
   "metadata": {},
   "outputs": [
    {
     "data": {
      "text/plain": [
       "[10, 5, 'Assignment', 5, True, 2.5]"
      ]
     },
     "execution_count": 235,
     "metadata": {},
     "output_type": "execute_result"
    }
   ],
   "source": [
    "list4=[10, 5, \"Assignment\", 5, True, 2.5]\n",
    "list4"
   ]
  },
  {
   "cell_type": "code",
   "execution_count": 195,
   "id": "edc7690b",
   "metadata": {},
   "outputs": [
    {
     "data": {
      "text/plain": [
       "[10, 5, 'Assignment', 5, True, 2.5, 100]"
      ]
     },
     "execution_count": 195,
     "metadata": {},
     "output_type": "execute_result"
    }
   ],
   "source": [
    "# append\n",
    "list4.append(100)\n",
    "list4"
   ]
  },
  {
   "cell_type": "code",
   "execution_count": 196,
   "id": "05e08a89",
   "metadata": {},
   "outputs": [
    {
     "data": {
      "text/plain": [
       "[10, 5, 'Assignment', 5, True, 2.5, 100]"
      ]
     },
     "execution_count": 196,
     "metadata": {},
     "output_type": "execute_result"
    }
   ],
   "source": [
    "# copy\n",
    "list4.copy()"
   ]
  },
  {
   "cell_type": "code",
   "execution_count": 197,
   "id": "0274d1e6",
   "metadata": {},
   "outputs": [
    {
     "data": {
      "text/plain": [
       "2"
      ]
     },
     "execution_count": 197,
     "metadata": {},
     "output_type": "execute_result"
    }
   ],
   "source": [
    "# Count\n",
    "list4.count(5)"
   ]
  },
  {
   "cell_type": "code",
   "execution_count": 211,
   "id": "d47baa7a",
   "metadata": {},
   "outputs": [
    {
     "data": {
      "text/plain": [
       "['C', 'C', 100, True, 5, 'Assignment', 5, 10, 'C']"
      ]
     },
     "execution_count": 211,
     "metadata": {},
     "output_type": "execute_result"
    }
   ],
   "source": [
    "# Extend\n",
    "list4.extend(\"C\")\n",
    "list4"
   ]
  },
  {
   "cell_type": "code",
   "execution_count": 199,
   "id": "9cfc3d41",
   "metadata": {},
   "outputs": [
    {
     "data": {
      "text/plain": [
       "2"
      ]
     },
     "execution_count": 199,
     "metadata": {},
     "output_type": "execute_result"
    }
   ],
   "source": [
    "# Indexing in list\n",
    "list4.index(\"Assignment\")"
   ]
  },
  {
   "cell_type": "code",
   "execution_count": 200,
   "id": "f92e7756",
   "metadata": {},
   "outputs": [
    {
     "data": {
      "text/plain": [
       "2.5"
      ]
     },
     "execution_count": 200,
     "metadata": {},
     "output_type": "execute_result"
    }
   ],
   "source": [
    "# pop\n",
    "list4.pop(5)"
   ]
  },
  {
   "cell_type": "code",
   "execution_count": 223,
   "id": "c1537917",
   "metadata": {},
   "outputs": [
    {
     "data": {
      "text/plain": [
       "[2.5, True, 'Assignment', 10]"
      ]
     },
     "execution_count": 223,
     "metadata": {},
     "output_type": "execute_result"
    }
   ],
   "source": [
    "# Reverse\n",
    "list4.reverse()\n",
    "list4"
   ]
  },
  {
   "cell_type": "code",
   "execution_count": 224,
   "id": "1b15625f",
   "metadata": {},
   "outputs": [
    {
     "data": {
      "text/plain": [
       "[2.5, True, 'Assignment']"
      ]
     },
     "execution_count": 224,
     "metadata": {},
     "output_type": "execute_result"
    }
   ],
   "source": [
    "list4.remove(10)\n",
    "list4"
   ]
  },
  {
   "cell_type": "code",
   "execution_count": 236,
   "id": "5660c9ca",
   "metadata": {
    "scrolled": true
   },
   "outputs": [
    {
     "data": {
      "text/plain": [
       "[10, 5, 'Hope', 'Assignment', 5, True, 2.5]"
      ]
     },
     "execution_count": 236,
     "metadata": {},
     "output_type": "execute_result"
    }
   ],
   "source": [
    "list4.insert(2, \"Hope\")\n",
    "list4."
   ]
  },
  {
   "cell_type": "code",
   "execution_count": 238,
   "id": "88a3dc92",
   "metadata": {},
   "outputs": [
    {
     "data": {
      "text/plain": [
       "[]"
      ]
     },
     "execution_count": 238,
     "metadata": {},
     "output_type": "execute_result"
    }
   ],
   "source": [
    "list4.clear()\n",
    "list4"
   ]
  },
  {
   "cell_type": "markdown",
   "id": "792e6f03",
   "metadata": {},
   "source": [
    "### 3 - Dictionaries\n",
    "- An ordered collection of elements\n",
    "- keys and values\n",
    "- Curley braces and brackets {  }\n",
    "- Mutatable (Change the values)"
   ]
  },
  {
   "cell_type": "code",
   "execution_count": 52,
   "id": "648e0c1e",
   "metadata": {},
   "outputs": [
    {
     "data": {
      "text/plain": [
       "{'Samosa': 30, 'Pakora': 100, 'raita': 20, 'salaad': 50, 'chickrn rolls': 30}"
      ]
     },
     "execution_count": 52,
     "metadata": {},
     "output_type": "execute_result"
    }
   ],
   "source": [
    "# Food and their prices\n",
    "food1 ={\"Samosa\":30, \"Pakora\":100, \"raita\":20, \"salaad\":50, \"chickrn rolls\":30}\n",
    "food1"
   ]
  },
  {
   "cell_type": "code",
   "execution_count": 53,
   "id": "10795328",
   "metadata": {},
   "outputs": [
    {
     "data": {
      "text/plain": [
       "dict"
      ]
     },
     "execution_count": 53,
     "metadata": {},
     "output_type": "execute_result"
    }
   ],
   "source": [
    "type(food1)"
   ]
  },
  {
   "cell_type": "code",
   "execution_count": 54,
   "id": "7e591d02",
   "metadata": {},
   "outputs": [
    {
     "data": {
      "text/plain": [
       "dict_keys(['Samosa', 'Pakora', 'raita', 'salaad', 'chickrn rolls'])"
      ]
     },
     "execution_count": 54,
     "metadata": {},
     "output_type": "execute_result"
    }
   ],
   "source": [
    "# extract data\n",
    "keys1 = food1.keys()\n",
    "keys1"
   ]
  },
  {
   "cell_type": "code",
   "execution_count": 55,
   "id": "fbaa487d",
   "metadata": {},
   "outputs": [
    {
     "data": {
      "text/plain": [
       "dict_values([30, 100, 20, 50, 30])"
      ]
     },
     "execution_count": 55,
     "metadata": {},
     "output_type": "execute_result"
    }
   ],
   "source": [
    "values1 = food1.values()\n",
    "values1"
   ]
  },
  {
   "cell_type": "code",
   "execution_count": 56,
   "id": "2e12db9f",
   "metadata": {
    "scrolled": false
   },
   "outputs": [
    {
     "data": {
      "text/plain": [
       "{'Samosa': 30,\n",
       " 'Pakora': 100,\n",
       " 'raita': 20,\n",
       " 'salaad': 50,\n",
       " 'chickrn rolls': 30,\n",
       " 'Tikki': 10}"
      ]
     },
     "execution_count": 56,
     "metadata": {},
     "output_type": "execute_result"
    }
   ],
   "source": [
    "# Adding new elements\n",
    "food1[\"Tikki\"]= 10\n",
    "food1"
   ]
  },
  {
   "cell_type": "code",
   "execution_count": 57,
   "id": "de948717",
   "metadata": {
    "scrolled": true
   },
   "outputs": [
    {
     "data": {
      "text/plain": [
       "{'Samosa': 30,\n",
       " 'Pakora': 100,\n",
       " 'raita': 20,\n",
       " 'salaad': 50,\n",
       " 'chickrn rolls': 30,\n",
       " 'Tikki': 15}"
      ]
     },
     "execution_count": 57,
     "metadata": {},
     "output_type": "execute_result"
    }
   ],
   "source": [
    "# Update the values\n",
    "food1[\"Tikki\"]= 15\n",
    "food1"
   ]
  },
  {
   "cell_type": "code",
   "execution_count": 58,
   "id": "094fd1b7",
   "metadata": {},
   "outputs": [
    {
     "data": {
      "text/plain": [
       "{'Dates': 50, 'Choclates': 200, 'Sayyian': 1000}"
      ]
     },
     "execution_count": 58,
     "metadata": {},
     "output_type": "execute_result"
    }
   ],
   "source": [
    "food2 = {\"Dates\":50, \"Choclates\":200, \"Sayyian\":1000}\n",
    "food2"
   ]
  },
  {
   "cell_type": "code",
   "execution_count": 59,
   "id": "47bc7af9",
   "metadata": {
    "scrolled": true
   },
   "outputs": [
    {
     "data": {
      "text/plain": [
       "{'Samosa': 30,\n",
       " 'Pakora': 100,\n",
       " 'raita': 20,\n",
       " 'salaad': 50,\n",
       " 'chickrn rolls': 30,\n",
       " 'Tikki': 15,\n",
       " 'Dates': 50,\n",
       " 'Choclates': 200,\n",
       " 'Sayyian': 1000}"
      ]
     },
     "execution_count": 59,
     "metadata": {},
     "output_type": "execute_result"
    }
   ],
   "source": [
    "# Concatinate\n",
    "food1.update(food2)\n",
    "food1"
   ]
  },
  {
   "cell_type": "markdown",
   "id": "771029bf",
   "metadata": {},
   "source": [
    "### - Assignment (Practice work)"
   ]
  },
  {
   "cell_type": "code",
   "execution_count": 340,
   "id": "d4e82f98",
   "metadata": {},
   "outputs": [
    {
     "data": {
      "text/plain": [
       "{'Samosa': 30, 'Pakora': 100, 'raita': 20, 'salaad': 50, 'chicken rolls': 30}"
      ]
     },
     "execution_count": 340,
     "metadata": {},
     "output_type": "execute_result"
    }
   ],
   "source": [
    "food4 ={\"Samosa\":30, \"Pakora\":100, \"raita\":20, \"salaad\":50, \"chicken rolls\":30}\n",
    "food4"
   ]
  },
  {
   "cell_type": "code",
   "execution_count": 260,
   "id": "23dfce2c",
   "metadata": {},
   "outputs": [
    {
     "data": {
      "text/plain": [
       "dict_keys(['Samosa', 'Pakora', 'raita', 'salaad', 'chicken rolls'])"
      ]
     },
     "execution_count": 260,
     "metadata": {},
     "output_type": "execute_result"
    }
   ],
   "source": [
    "# keys\n",
    "food4.keys()"
   ]
  },
  {
   "cell_type": "code",
   "execution_count": 230,
   "id": "16f7ff48",
   "metadata": {},
   "outputs": [
    {
     "data": {
      "text/plain": [
       "dict_values([30, 100, 20, 50, 30])"
      ]
     },
     "execution_count": 230,
     "metadata": {},
     "output_type": "execute_result"
    }
   ],
   "source": [
    "# Values\n",
    "food4.values()"
   ]
  },
  {
   "cell_type": "code",
   "execution_count": 261,
   "id": "1d39d415",
   "metadata": {},
   "outputs": [
    {
     "data": {
      "text/plain": [
       "{'Samosa': 30,\n",
       " 'Pakora': 100,\n",
       " 'raita': 20,\n",
       " 'salaad': 50,\n",
       " 'chicken rolls': 30,\n",
       " 'karahi': 500}"
      ]
     },
     "execution_count": 261,
     "metadata": {},
     "output_type": "execute_result"
    }
   ],
   "source": [
    "# Update the values\n",
    "food4[\"karahi\"]= 500\n",
    "food4"
   ]
  },
  {
   "cell_type": "code",
   "execution_count": 262,
   "id": "3633db26",
   "metadata": {},
   "outputs": [
    {
     "data": {
      "text/plain": [
       "{'Samosa': 30,\n",
       " 'Pakora': 100,\n",
       " 'raita': 20,\n",
       " 'salaad': 50,\n",
       " 'chicken rolls': 30,\n",
       " 'karahi': 500}"
      ]
     },
     "execution_count": 262,
     "metadata": {},
     "output_type": "execute_result"
    }
   ],
   "source": [
    "# Copy\n",
    "food4.copy()"
   ]
  },
  {
   "cell_type": "code",
   "execution_count": 265,
   "id": "27d47701",
   "metadata": {},
   "outputs": [
    {
     "data": {
      "text/plain": [
       "{'C': 30,\n",
       " 'h': 30,\n",
       " 'i': 30,\n",
       " 'c': 30,\n",
       " 'k': 30,\n",
       " 'e': 30,\n",
       " 'n': 30,\n",
       " ' ': 30,\n",
       " 'r': 30,\n",
       " 'o': 30,\n",
       " 'l': 30,\n",
       " 's': 30}"
      ]
     },
     "execution_count": 265,
     "metadata": {},
     "output_type": "execute_result"
    }
   ],
   "source": [
    "# Fromkey\n",
    "food4.fromkeys(\"Chicken rolls\", 30)"
   ]
  },
  {
   "cell_type": "code",
   "execution_count": 266,
   "id": "3b2a7892",
   "metadata": {},
   "outputs": [
    {
     "data": {
      "text/plain": [
       "100"
      ]
     },
     "execution_count": 266,
     "metadata": {},
     "output_type": "execute_result"
    }
   ],
   "source": [
    "# Get\n",
    "food4.get(\"Pakora\")"
   ]
  },
  {
   "cell_type": "code",
   "execution_count": 269,
   "id": "4291f0b9",
   "metadata": {},
   "outputs": [
    {
     "data": {
      "text/plain": [
       "dict_items([('Samosa', 30), ('Pakora', 100), ('raita', 20), ('salaad', 50), ('chicken rolls', 30), ('karahi', 500)])"
      ]
     },
     "execution_count": 269,
     "metadata": {},
     "output_type": "execute_result"
    }
   ],
   "source": [
    "# Items\n",
    "food4.items()"
   ]
  },
  {
   "cell_type": "code",
   "execution_count": 272,
   "id": "0fe5c0ff",
   "metadata": {},
   "outputs": [
    {
     "data": {
      "text/plain": [
       "30"
      ]
     },
     "execution_count": 272,
     "metadata": {},
     "output_type": "execute_result"
    }
   ],
   "source": [
    "# Pop\n",
    "food4.pop(\"Samosa\")"
   ]
  },
  {
   "cell_type": "code",
   "execution_count": 288,
   "id": "0219aafc",
   "metadata": {},
   "outputs": [
    {
     "data": {
      "text/plain": [
       "('chicken rolls', 30)"
      ]
     },
     "execution_count": 288,
     "metadata": {},
     "output_type": "execute_result"
    }
   ],
   "source": [
    "# Popitem\n",
    "food4.popitem()"
   ]
  },
  {
   "cell_type": "code",
   "execution_count": 341,
   "id": "631cbd4b",
   "metadata": {},
   "outputs": [
    {
     "data": {
      "text/plain": [
       "{'Samosa': 30,\n",
       " 'Pakora': 100,\n",
       " 'raita': 20,\n",
       " 'salaad': 50,\n",
       " 'chicken rolls': 30,\n",
       " 'Zinger': None}"
      ]
     },
     "execution_count": 341,
     "metadata": {},
     "output_type": "execute_result"
    }
   ],
   "source": [
    "food4.setdefault(\"Zinger\") \n",
    "food4"
   ]
  },
  {
   "cell_type": "code",
   "execution_count": 353,
   "id": "5d7ed41e",
   "metadata": {},
   "outputs": [
    {
     "data": {
      "text/plain": [
       "{}"
      ]
     },
     "execution_count": 353,
     "metadata": {},
     "output_type": "execute_result"
    }
   ],
   "source": [
    "food4.clear()\n",
    "food4"
   ]
  },
  {
   "cell_type": "markdown",
   "id": "4b04fa16",
   "metadata": {},
   "source": [
    "## 4- Set\n",
    "- Unordered and Unindexed\n",
    "- Curley braces or bracket {  }\n",
    "- No duplicates allowed"
   ]
  },
  {
   "cell_type": "code",
   "execution_count": 363,
   "id": "6ae99327",
   "metadata": {},
   "outputs": [
    {
     "data": {
      "text/plain": [
       "{1, 2.1, 5.2, 'Aammar', 'Codanics', 'Faisalabad'}"
      ]
     },
     "execution_count": 363,
     "metadata": {},
     "output_type": "execute_result"
    }
   ],
   "source": [
    "s1 = {1, 2.1, 5.2, \"Aammar\", \"Codanics\", \"Faisalabad\", True}\n",
    "s1"
   ]
  },
  {
   "cell_type": "code",
   "execution_count": 61,
   "id": "5d795e2a",
   "metadata": {},
   "outputs": [
    {
     "data": {
      "text/plain": [
       "{1, 2.1, 5.2, 'Aammar', 'Aammar1', 'Codanics', 'Faisalabad'}"
      ]
     },
     "execution_count": 61,
     "metadata": {},
     "output_type": "execute_result"
    }
   ],
   "source": [
    "s1.add(\"Aammar1\")\n",
    "s1"
   ]
  },
  {
   "cell_type": "code",
   "execution_count": 62,
   "id": "462cd8b6",
   "metadata": {},
   "outputs": [
    {
     "data": {
      "text/plain": [
       "{1, 2.1, 5.2, 'Aammar', 'Codanics', 'Faisalabad'}"
      ]
     },
     "execution_count": 62,
     "metadata": {},
     "output_type": "execute_result"
    }
   ],
   "source": [
    "s1.remove(\"Aammar1\")\n",
    "s1"
   ]
  },
  {
   "cell_type": "code",
   "execution_count": null,
   "id": "1f8d6e10",
   "metadata": {},
   "outputs": [],
   "source": []
  },
  {
   "cell_type": "code",
   "execution_count": 368,
   "id": "27efc216",
   "metadata": {},
   "outputs": [
    {
     "data": {
      "text/plain": [
       "{2, 3, 'A', 'e', 'i', 'o', 'u'}"
      ]
     },
     "execution_count": 368,
     "metadata": {},
     "output_type": "execute_result"
    }
   ],
   "source": [
    "s2 = {\"A\", \"e\", \"i\", \"o\", \"u\", 3, 2}\n",
    "s2"
   ]
  },
  {
   "cell_type": "code",
   "execution_count": 374,
   "id": "eb5f4157",
   "metadata": {},
   "outputs": [
    {
     "data": {
      "text/plain": [
       "{1, 2.1, 5.2, 'Aammar', 'Codanics', 'Faisalabad'}"
      ]
     },
     "execution_count": 374,
     "metadata": {},
     "output_type": "execute_result"
    }
   ],
   "source": [
    "s1.difference_update(\"c\")\n",
    "s1"
   ]
  },
  {
   "cell_type": "code",
   "execution_count": 379,
   "id": "97ad76a9",
   "metadata": {},
   "outputs": [
    {
     "data": {
      "text/plain": [
       "{2.1, 5.2, 'Aammar', 'Codanics', 'Faisalabad'}"
      ]
     },
     "execution_count": 379,
     "metadata": {},
     "output_type": "execute_result"
    }
   ],
   "source": [
    "s1.discard(1)\n",
    "s1"
   ]
  },
  {
   "cell_type": "code",
   "execution_count": 380,
   "id": "29f69934",
   "metadata": {},
   "outputs": [
    {
     "data": {
      "text/plain": [
       "{2.1, 5.2, 'Aammar', 'Codanics', 'Faisalabad'}"
      ]
     },
     "execution_count": 380,
     "metadata": {},
     "output_type": "execute_result"
    }
   ],
   "source": [
    "s1.intersection()"
   ]
  }
 ],
 "metadata": {
  "kernelspec": {
   "display_name": "Python 3",
   "language": "python",
   "name": "python3"
  },
  "language_info": {
   "codemirror_mode": {
    "name": "ipython",
    "version": 3
   },
   "file_extension": ".py",
   "mimetype": "text/x-python",
   "name": "python",
   "nbconvert_exporter": "python",
   "pygments_lexer": "ipython3",
   "version": "3.11.1 (tags/v3.11.1:a7a450f, Dec  6 2022, 19:58:39) [MSC v.1934 64 bit (AMD64)]"
  },
  "vscode": {
   "interpreter": {
    "hash": "c6f3122309dd7e2b7b7540c4d5e229686eb9e8bbcafaa9171ce90190ce45e4c8"
   }
  }
 },
 "nbformat": 4,
 "nbformat_minor": 5
}
